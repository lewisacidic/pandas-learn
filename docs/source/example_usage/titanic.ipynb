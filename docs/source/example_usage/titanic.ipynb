{
 "cells": [
  {
   "cell_type": "markdown",
   "metadata": {},
   "source": [
    "# Example Usage: Titanic Dataset"
   ]
  },
  {
   "cell_type": "markdown",
   "metadata": {},
   "source": [
    "An example of training a model on the titanic dataset."
   ]
  },
  {
   "cell_type": "markdown",
   "metadata": {},
   "source": [
    "The name of the package is **pandas-learn**, a mixing *pandas* into *scikit-learn*.  Therefore, you should always use pandas to handle your data if you are using the package(!):"
   ]
  },
  {
   "cell_type": "code",
   "execution_count": 1,
   "metadata": {
    "collapsed": false
   },
   "outputs": [],
   "source": [
    "import pandas as pd\n",
    "%matplotlib inline"
   ]
  },
  {
   "cell_type": "markdown",
   "metadata": {},
   "source": [
    "pandas-learn has an identical module structure to scikit-learn, so you already know where to find all the models you already use:"
   ]
  },
  {
   "cell_type": "code",
   "execution_count": 2,
   "metadata": {
    "collapsed": true
   },
   "outputs": [],
   "source": [
    "from pdlearn.ensemble import RandomForestClassifier"
   ]
  },
  {
   "cell_type": "markdown",
   "metadata": {},
   "source": [
    "You can use pandas to manipulate your data with ease:"
   ]
  },
  {
   "cell_type": "code",
   "execution_count": 3,
   "metadata": {
    "collapsed": false
   },
   "outputs": [],
   "source": [
    "data = pd.read_csv('titanic-train.csv')                   \\\n",
    "                 .append(pd.read_csv('titanic-test.csv')) \\\n",
    "                 .set_index('name')\n",
    "        \n",
    "data['sex'] = data.sex == 'male'\n",
    "data['child'] = data.age.fillna(20) < 15\n",
    "X = data[['sex', 'p_class', 'child']].astype(int)\n",
    "y = data['survived']\n",
    "\n",
    "train = y.notnull()"
   ]
  },
  {
   "cell_type": "code",
   "execution_count": 4,
   "metadata": {
    "collapsed": false
   },
   "outputs": [
    {
     "data": {
      "text/html": [
       "<div>\n",
       "<table border=\"1\" class=\"dataframe\">\n",
       "  <thead>\n",
       "    <tr style=\"text-align: right;\">\n",
       "      <th></th>\n",
       "      <th>sex</th>\n",
       "      <th>p_class</th>\n",
       "      <th>child</th>\n",
       "    </tr>\n",
       "    <tr>\n",
       "      <th>name</th>\n",
       "      <th></th>\n",
       "      <th></th>\n",
       "      <th></th>\n",
       "    </tr>\n",
       "  </thead>\n",
       "  <tbody>\n",
       "    <tr>\n",
       "      <th>Braund, Mr. Owen Harris</th>\n",
       "      <td>1</td>\n",
       "      <td>3</td>\n",
       "      <td>0</td>\n",
       "    </tr>\n",
       "    <tr>\n",
       "      <th>Cumings, Mrs. John Bradley (Florence Briggs Thayer)</th>\n",
       "      <td>0</td>\n",
       "      <td>1</td>\n",
       "      <td>0</td>\n",
       "    </tr>\n",
       "    <tr>\n",
       "      <th>Heikkinen, Miss. Laina</th>\n",
       "      <td>0</td>\n",
       "      <td>3</td>\n",
       "      <td>0</td>\n",
       "    </tr>\n",
       "    <tr>\n",
       "      <th>Futrelle, Mrs. Jacques Heath (Lily May Peel)</th>\n",
       "      <td>0</td>\n",
       "      <td>1</td>\n",
       "      <td>0</td>\n",
       "    </tr>\n",
       "    <tr>\n",
       "      <th>Allen, Mr. William Henry</th>\n",
       "      <td>1</td>\n",
       "      <td>3</td>\n",
       "      <td>0</td>\n",
       "    </tr>\n",
       "    <tr>\n",
       "      <th>Moran, Mr. James</th>\n",
       "      <td>1</td>\n",
       "      <td>3</td>\n",
       "      <td>0</td>\n",
       "    </tr>\n",
       "    <tr>\n",
       "      <th>McCarthy, Mr. Timothy J</th>\n",
       "      <td>1</td>\n",
       "      <td>1</td>\n",
       "      <td>0</td>\n",
       "    </tr>\n",
       "    <tr>\n",
       "      <th>Palsson, Master. Gosta Leonard</th>\n",
       "      <td>1</td>\n",
       "      <td>3</td>\n",
       "      <td>1</td>\n",
       "    </tr>\n",
       "    <tr>\n",
       "      <th>Johnson, Mrs. Oscar W (Elisabeth Vilhelmina Berg)</th>\n",
       "      <td>0</td>\n",
       "      <td>3</td>\n",
       "      <td>0</td>\n",
       "    </tr>\n",
       "    <tr>\n",
       "      <th>Nasser, Mrs. Nicholas (Adele Achem)</th>\n",
       "      <td>0</td>\n",
       "      <td>2</td>\n",
       "      <td>1</td>\n",
       "    </tr>\n",
       "  </tbody>\n",
       "</table>\n",
       "</div>"
      ],
      "text/plain": [
       "                                                    sex  p_class  child\n",
       "name                                                                   \n",
       "Braund, Mr. Owen Harris                               1        3      0\n",
       "Cumings, Mrs. John Bradley (Florence Briggs Tha...    0        1      0\n",
       "Heikkinen, Miss. Laina                                0        3      0\n",
       "Futrelle, Mrs. Jacques Heath (Lily May Peel)          0        1      0\n",
       "Allen, Mr. William Henry                              1        3      0\n",
       "Moran, Mr. James                                      1        3      0\n",
       "McCarthy, Mr. Timothy J                               1        1      0\n",
       "Palsson, Master. Gosta Leonard                        1        3      1\n",
       "Johnson, Mrs. Oscar W (Elisabeth Vilhelmina Berg)     0        3      0\n",
       "Nasser, Mrs. Nicholas (Adele Achem)                   0        2      1"
      ]
     },
     "execution_count": 4,
     "metadata": {},
     "output_type": "execute_result"
    }
   ],
   "source": [
    "X.head(10)"
   ]
  },
  {
   "cell_type": "markdown",
   "metadata": {},
   "source": [
    "(Just in case you are wondering, Mrs. Nasser was apparently 14, so was in fact a child despite being married!)."
   ]
  },
  {
   "cell_type": "code",
   "execution_count": 5,
   "metadata": {
    "collapsed": false
   },
   "outputs": [
    {
     "data": {
      "text/plain": [
       "name\n",
       "Braund, Mr. Owen Harris                                0\n",
       "Cumings, Mrs. John Bradley (Florence Briggs Thayer)    1\n",
       "Heikkinen, Miss. Laina                                 1\n",
       "Futrelle, Mrs. Jacques Heath (Lily May Peel)           1\n",
       "Allen, Mr. William Henry                               0\n",
       "Moran, Mr. James                                       0\n",
       "McCarthy, Mr. Timothy J                                0\n",
       "Palsson, Master. Gosta Leonard                         0\n",
       "Johnson, Mrs. Oscar W (Elisabeth Vilhelmina Berg)      1\n",
       "Nasser, Mrs. Nicholas (Adele Achem)                    1\n",
       "Name: survived, dtype: float64"
      ]
     },
     "execution_count": 5,
     "metadata": {},
     "output_type": "execute_result"
    }
   ],
   "source": [
    "y.head(10)"
   ]
  },
  {
   "cell_type": "markdown",
   "metadata": {},
   "source": [
    "pandas-learn modules inherit directly from scikit learn models.  They have basically the same interface:"
   ]
  },
  {
   "cell_type": "code",
   "execution_count": 6,
   "metadata": {
    "collapsed": true
   },
   "outputs": [],
   "source": [
    "rf = RandomForestClassifier(n_estimators=500, criterion='gini')"
   ]
  },
  {
   "cell_type": "markdown",
   "metadata": {},
   "source": [
    "When you fit to pandas data, it saves the feature and target names automatically:"
   ]
  },
  {
   "cell_type": "code",
   "execution_count": 7,
   "metadata": {
    "collapsed": false
   },
   "outputs": [
    {
     "name": "stdout",
     "output_type": "stream",
     "text": [
      "Feature names:  Index(['sex', 'p_class', 'child'], dtype='object')\n",
      "Target names:   Index(['survived'], dtype='object')\n"
     ]
    }
   ],
   "source": [
    "rf.fit(X[train], y[train]);\n",
    "print('Feature names: ', rf.feature_names_)\n",
    "print('Target names:  ', rf.target_names_)"
   ]
  },
  {
   "cell_type": "code",
   "execution_count": 8,
   "metadata": {
    "collapsed": false
   },
   "outputs": [
    {
     "data": {
      "text/plain": [
       "name\n",
       "Kelly, Mr. James                                0\n",
       "Wilkes, Mrs. James (Ellen Needs)                1\n",
       "Myles, Mr. Thomas Francis                       0\n",
       "Wirz, Mr. Albert                                0\n",
       "Hirvonen, Mrs. Alexander (Helga E Lindqvist)    1\n",
       "Svensson, Mr. Johan Cervin                      0\n",
       "Connolly, Miss. Kate                            1\n",
       "Caldwell, Mr. Albert Francis                    0\n",
       "Abrahim, Mrs. Joseph (Sophie Halaut Easu)       1\n",
       "Davies, Mr. John Samuel                         0\n",
       "Name: survived, dtype: float64"
      ]
     },
     "execution_count": 8,
     "metadata": {},
     "output_type": "execute_result"
    }
   ],
   "source": [
    "rf.predict(X[~train]).head(10)"
   ]
  },
  {
   "cell_type": "code",
   "execution_count": 9,
   "metadata": {
    "collapsed": false
   },
   "outputs": [
    {
     "data": {
      "text/html": [
       "<div>\n",
       "<table border=\"1\" class=\"dataframe\">\n",
       "  <thead>\n",
       "    <tr>\n",
       "      <th></th>\n",
       "      <th colspan=\"2\" halign=\"left\">survived</th>\n",
       "    </tr>\n",
       "    <tr>\n",
       "      <th></th>\n",
       "      <th>0</th>\n",
       "      <th>1</th>\n",
       "    </tr>\n",
       "    <tr>\n",
       "      <th>name</th>\n",
       "      <th></th>\n",
       "      <th></th>\n",
       "    </tr>\n",
       "  </thead>\n",
       "  <tbody>\n",
       "    <tr>\n",
       "      <th>Kelly, Mr. James</th>\n",
       "      <td>0.881033</td>\n",
       "      <td>0.118967</td>\n",
       "    </tr>\n",
       "    <tr>\n",
       "      <th>Wilkes, Mrs. James (Ellen Needs)</th>\n",
       "      <td>0.490276</td>\n",
       "      <td>0.509724</td>\n",
       "    </tr>\n",
       "    <tr>\n",
       "      <th>Myles, Mr. Thomas Francis</th>\n",
       "      <td>0.918252</td>\n",
       "      <td>0.081748</td>\n",
       "    </tr>\n",
       "    <tr>\n",
       "      <th>Wirz, Mr. Albert</th>\n",
       "      <td>0.881033</td>\n",
       "      <td>0.118967</td>\n",
       "    </tr>\n",
       "    <tr>\n",
       "      <th>Hirvonen, Mrs. Alexander (Helga E Lindqvist)</th>\n",
       "      <td>0.490276</td>\n",
       "      <td>0.509724</td>\n",
       "    </tr>\n",
       "    <tr>\n",
       "      <th>Svensson, Mr. Johan Cervin</th>\n",
       "      <td>0.659940</td>\n",
       "      <td>0.340060</td>\n",
       "    </tr>\n",
       "    <tr>\n",
       "      <th>Connolly, Miss. Kate</th>\n",
       "      <td>0.490276</td>\n",
       "      <td>0.509724</td>\n",
       "    </tr>\n",
       "    <tr>\n",
       "      <th>Caldwell, Mr. Albert Francis</th>\n",
       "      <td>0.918252</td>\n",
       "      <td>0.081748</td>\n",
       "    </tr>\n",
       "    <tr>\n",
       "      <th>Abrahim, Mrs. Joseph (Sophie Halaut Easu)</th>\n",
       "      <td>0.490276</td>\n",
       "      <td>0.509724</td>\n",
       "    </tr>\n",
       "    <tr>\n",
       "      <th>Davies, Mr. John Samuel</th>\n",
       "      <td>0.881033</td>\n",
       "      <td>0.118967</td>\n",
       "    </tr>\n",
       "  </tbody>\n",
       "</table>\n",
       "</div>"
      ],
      "text/plain": [
       "                                              survived          \n",
       "                                                     0         1\n",
       "name                                                            \n",
       "Kelly, Mr. James                              0.881033  0.118967\n",
       "Wilkes, Mrs. James (Ellen Needs)              0.490276  0.509724\n",
       "Myles, Mr. Thomas Francis                     0.918252  0.081748\n",
       "Wirz, Mr. Albert                              0.881033  0.118967\n",
       "Hirvonen, Mrs. Alexander (Helga E Lindqvist)  0.490276  0.509724\n",
       "Svensson, Mr. Johan Cervin                    0.659940  0.340060\n",
       "Connolly, Miss. Kate                          0.490276  0.509724\n",
       "Caldwell, Mr. Albert Francis                  0.918252  0.081748\n",
       "Abrahim, Mrs. Joseph (Sophie Halaut Easu)     0.490276  0.509724\n",
       "Davies, Mr. John Samuel                       0.881033  0.118967"
      ]
     },
     "execution_count": 9,
     "metadata": {},
     "output_type": "execute_result"
    }
   ],
   "source": [
    "rf.predict_proba(X[~train]).head(10)"
   ]
  },
  {
   "cell_type": "code",
   "execution_count": 10,
   "metadata": {
    "collapsed": false
   },
   "outputs": [
    {
     "data": {
      "text/plain": [
       "<matplotlib.axes._subplots.AxesSubplot at 0x10ea158d0>"
      ]
     },
     "execution_count": 10,
     "metadata": {},
     "output_type": "execute_result"
    },
    {
     "data": {
      "image/png": "[encoded data removed]",
      "text/plain": [
       "<matplotlib.figure.Figure at 0x10e9ba828>"
      ]
     },
     "metadata": {},
     "output_type": "display_data"
    }
   ],
   "source": [
    "rf.feature_importances_.plot.bar()"
   ]
  }
 ],
 "metadata": {
  "kernelspec": {
   "display_name": "Python 3",
   "language": "python",
   "name": "python3"
  },
  "language_info": {
   "codemirror_mode": {
    "name": "ipython",
    "version": 3
   },
   "file_extension": ".py",
   "mimetype": "text/x-python",
   "name": "python",
   "nbconvert_exporter": "python",
   "pygments_lexer": "ipython3",
   "version": "3.5.0"
  }
 },
 "nbformat": 4,
 "nbformat_minor": 0
}
